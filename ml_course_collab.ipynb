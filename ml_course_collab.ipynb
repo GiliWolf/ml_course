{
  "nbformat": 4,
  "nbformat_minor": 0,
  "metadata": {
    "colab": {
      "provenance": [],
      "toc_visible": true,
      "authorship_tag": "ABX9TyMttKB77TgxjAJXLRDPeg84",
      "include_colab_link": true
    },
    "kernelspec": {
      "name": "python3",
      "display_name": "Python 3"
    },
    "language_info": {
      "name": "python"
    }
  },
  "cells": [
    {
      "cell_type": "markdown",
      "metadata": {
        "id": "view-in-github",
        "colab_type": "text"
      },
      "source": [
        "<a href=\"https://colab.research.google.com/github/GiliWolf/ml_course/blob/master/ml_course_collab.ipynb\" target=\"_parent\"><img src=\"https://colab.research.google.com/assets/colab-badge.svg\" alt=\"Open In Colab\"/></a>"
      ]
    },
    {
      "cell_type": "markdown",
      "source": [
        "# pre processing"
      ],
      "metadata": {
        "id": "xzAZJXlTOqwY"
      }
    },
    {
      "cell_type": "code",
      "execution_count": 3,
      "metadata": {
        "colab": {
          "base_uri": "https://localhost:8080/"
        },
        "id": "xzXTwBnaCCMZ",
        "outputId": "bf288bfa-e425-4122-a653-95b35f667ca8"
      },
      "outputs": [
        {
          "output_type": "stream",
          "name": "stdout",
          "text": [
            "fatal: destination path 'ml_course' already exists and is not an empty directory.\n"
          ]
        }
      ],
      "source": [
        "!git clone https://github.com/GiliWolf/ml_course\n"
      ]
    },
    {
      "cell_type": "code",
      "source": [
        "from sklearn import datasets\n",
        "from sklearn.linear_model import LinearRegression, RANSACRegressor\n",
        "import matplotlib.pyplot as plt\n",
        "import pandas as pd"
      ],
      "metadata": {
        "id": "l1D_3ErMDVHk"
      },
      "execution_count": 4,
      "outputs": []
    },
    {
      "cell_type": "markdown",
      "source": [
        "ls"
      ],
      "metadata": {
        "id": "HNTFGP0WDFuS"
      }
    },
    {
      "cell_type": "code",
      "source": [
        "import numpy as np\n"
      ],
      "metadata": {
        "id": "FDDAX8NUEZGy"
      },
      "execution_count": 5,
      "outputs": []
    },
    {
      "cell_type": "code",
      "source": [
        "from sklearn.preprocessing import StandardScaler"
      ],
      "metadata": {
        "id": "r0foTO-SEgRm"
      },
      "execution_count": 8,
      "outputs": []
    },
    {
      "cell_type": "markdown",
      "source": [
        "uploading data"
      ],
      "metadata": {
        "id": "pWvuFogCM4XS"
      }
    },
    {
      "cell_type": "code",
      "source": [
        "diabetes = datasets.load_diabetes()\n",
        "X = diabetes['data']\n",
        "y = diabetes['target']"
      ],
      "metadata": {
        "id": "mh8nie6aMazy"
      },
      "execution_count": 6,
      "outputs": []
    },
    {
      "cell_type": "markdown",
      "source": [
        "standarize"
      ],
      "metadata": {
        "id": "Gt7lhmqYM7YT"
      }
    },
    {
      "cell_type": "code",
      "source": [
        "sc_x = StandardScaler()\n",
        "sc_y = StandardScaler()\n",
        "X_std = sc_x.fit_transform(X)\n",
        "y_std = sc_y.fit_transform(y.reshape(-1,1)).flatten()"
      ],
      "metadata": {
        "id": "c8Z4et5BMqWD"
      },
      "execution_count": 10,
      "outputs": []
    },
    {
      "cell_type": "code",
      "source": [
        "plt.hist(X)"
      ],
      "metadata": {
        "colab": {
          "base_uri": "https://localhost:8080/",
          "height": 673
        },
        "id": "iQSlQkQqNE-v",
        "outputId": "8db26bd0-6ccb-4934-cfb8-439af204f61c"
      },
      "execution_count": 11,
      "outputs": [
        {
          "output_type": "execute_result",
          "data": {
            "text/plain": [
              "(array([[  3.,  41.,  67.,  77., 120.,  95.,  37.,   2.,   0.,   0.],\n",
              "        [  0.,   0., 235.,   0.,   0., 207.,   0.,   0.,   0.,   0.],\n",
              "        [  0.,  17.,  84., 136.,  94.,  67.,  31.,  10.,   2.,   1.],\n",
              "        [  2.,  22.,  79., 131.,  89.,  75.,  35.,   8.,   1.,   0.],\n",
              "        [  3.,  23.,  76., 121., 112.,  66.,  28.,  10.,   3.,   0.],\n",
              "        [  4.,  24.,  61., 135., 108.,  70.,  28.,  10.,   1.,   1.],\n",
              "        [  0.,  15.,  88., 125., 112.,  62.,  25.,   8.,   4.,   3.],\n",
              "        [  0.,  29., 137.,  12., 129.,  77.,  39.,  14.,   4.,   1.],\n",
              "        [  2.,  23.,  76., 119., 105.,  74.,  30.,   9.,   4.,   0.],\n",
              "        [  5.,  24.,  73., 103., 132.,  64.,  27.,  11.,   3.,   0.]]),\n",
              " array([-0.13776723, -0.1041117 , -0.07045618, -0.03680066, -0.00314514,\n",
              "         0.03051038,  0.0641659 ,  0.09782143,  0.13147695,  0.16513247,\n",
              "         0.19878799]),\n",
              " <a list of 10 BarContainer objects>)"
            ]
          },
          "metadata": {},
          "execution_count": 11
        },
        {
          "output_type": "display_data",
          "data": {
            "text/plain": [
              "<Figure size 640x480 with 1 Axes>"
            ],
            "image/png": "[encoded data removed]"
          },
          "metadata": {}
        }
      ]
    },
    {
      "cell_type": "code",
      "source": [
        "plt.hist(X_std)"
      ],
      "metadata": {
        "colab": {
          "base_uri": "https://localhost:8080/",
          "height": 673
        },
        "id": "qfg5xw2uNXbl",
        "outputId": "8d009e1a-6c28-4e9d-f02a-ca20469fd653"
      },
      "execution_count": 12,
      "outputs": [
        {
          "output_type": "execute_result",
          "data": {
            "text/plain": [
              "(array([[  3.,  41.,  67.,  77., 120.,  95.,  37.,   2.,   0.,   0.],\n",
              "        [  0.,   0., 235.,   0.,   0., 207.,   0.,   0.,   0.,   0.],\n",
              "        [  0.,  17.,  84., 136.,  94.,  67.,  31.,  10.,   2.,   1.],\n",
              "        [  2.,  22.,  79., 131.,  89.,  75.,  35.,   8.,   1.,   0.],\n",
              "        [  3.,  23.,  76., 121., 112.,  66.,  28.,  10.,   3.,   0.],\n",
              "        [  4.,  24.,  61., 135., 108.,  70.,  28.,  10.,   1.,   1.],\n",
              "        [  0.,  15.,  88., 125., 112.,  62.,  25.,   8.,   4.,   3.],\n",
              "        [  0.,  29., 137.,  12., 129.,  77.,  39.,  14.,   4.,   1.],\n",
              "        [  2.,  23.,  76., 119., 105.,  74.,  30.,   9.,   4.,   0.],\n",
              "        [  5.,  24.,  73., 103., 132.,  64.,  27.,  11.,   3.,   0.]]),\n",
              " array([-2.89639005, -2.18882323, -1.48125641, -0.77368959, -0.06612277,\n",
              "         0.64144405,  1.34901087,  2.05657769,  2.76414451,  3.47171133,\n",
              "         4.17927815]),\n",
              " <a list of 10 BarContainer objects>)"
            ]
          },
          "metadata": {},
          "execution_count": 12
        },
        {
          "output_type": "display_data",
          "data": {
            "text/plain": [
              "<Figure size 640x480 with 1 Axes>"
            ],
            "image/png": "[encoded data removed]"
          },
          "metadata": {}
        }
      ]
    },
    {
      "cell_type": "markdown",
      "source": [
        "mean removal\n"
      ],
      "metadata": {
        "id": "I7QkG3IONlig"
      }
    },
    {
      "cell_type": "code",
      "source": [
        "from sklearn import preprocessing\n",
        "x_scalled = preprocessing.scale(X)"
      ],
      "metadata": {
        "id": "jWi8X5gcNtQo"
      },
      "execution_count": 13,
      "outputs": []
    },
    {
      "cell_type": "code",
      "source": [
        "plt.hist(x_scalled)"
      ],
      "metadata": {
        "colab": {
          "base_uri": "https://localhost:8080/",
          "height": 673
        },
        "id": "RTImWuquOBP7",
        "outputId": "9b71219c-3b48-4505-c48e-8728d48b3041"
      },
      "execution_count": 14,
      "outputs": [
        {
          "output_type": "execute_result",
          "data": {
            "text/plain": [
              "(array([[  3.,  41.,  67.,  77., 120.,  95.,  37.,   2.,   0.,   0.],\n",
              "        [  0.,   0., 235.,   0.,   0., 207.,   0.,   0.,   0.,   0.],\n",
              "        [  0.,  17.,  84., 136.,  94.,  67.,  31.,  10.,   2.,   1.],\n",
              "        [  2.,  22.,  79., 131.,  89.,  75.,  35.,   8.,   1.,   0.],\n",
              "        [  3.,  23.,  76., 121., 112.,  66.,  28.,  10.,   3.,   0.],\n",
              "        [  4.,  24.,  61., 135., 108.,  70.,  28.,  10.,   1.,   1.],\n",
              "        [  0.,  15.,  88., 125., 112.,  62.,  25.,   8.,   4.,   3.],\n",
              "        [  0.,  29., 137.,  12., 129.,  77.,  39.,  14.,   4.,   1.],\n",
              "        [  2.,  23.,  76., 119., 105.,  74.,  30.,   9.,   4.,   0.],\n",
              "        [  5.,  24.,  73., 103., 132.,  64.,  27.,  11.,   3.,   0.]]),\n",
              " array([-2.89639005, -2.18882323, -1.48125641, -0.77368959, -0.06612277,\n",
              "         0.64144405,  1.34901087,  2.05657769,  2.76414451,  3.47171133,\n",
              "         4.17927815]),\n",
              " <a list of 10 BarContainer objects>)"
            ]
          },
          "metadata": {},
          "execution_count": 14
        },
        {
          "output_type": "display_data",
          "data": {
            "text/plain": [
              "<Figure size 640x480 with 1 Axes>"
            ],
            "image/png": "[encoded data removed]"
          },
          "metadata": {}
        }
      ]
    },
    {
      "cell_type": "code",
      "source": [
        "scaler = preprocessing.StandardScaler().fit(X)"
      ],
      "metadata": {
        "id": "bqdGsWYVOFL4"
      },
      "execution_count": 15,
      "outputs": []
    },
    {
      "cell_type": "code",
      "source": [
        "after_x = scaler.transform(X)"
      ],
      "metadata": {
        "id": "zQEIw1VVOcO3"
      },
      "execution_count": 18,
      "outputs": []
    },
    {
      "cell_type": "code",
      "source": [
        "plt.hist(X)"
      ],
      "metadata": {
        "colab": {
          "base_uri": "https://localhost:8080/",
          "height": 673
        },
        "id": "oaNWiOkyOf2h",
        "outputId": "91fdc6de-e5ac-4fe3-c92d-aaf7b4e500bf"
      },
      "execution_count": 17,
      "outputs": [
        {
          "output_type": "execute_result",
          "data": {
            "text/plain": [
              "(array([[  3.,  41.,  67.,  77., 120.,  95.,  37.,   2.,   0.,   0.],\n",
              "        [  0.,   0., 235.,   0.,   0., 207.,   0.,   0.,   0.,   0.],\n",
              "        [  0.,  17.,  84., 136.,  94.,  67.,  31.,  10.,   2.,   1.],\n",
              "        [  2.,  22.,  79., 131.,  89.,  75.,  35.,   8.,   1.,   0.],\n",
              "        [  3.,  23.,  76., 121., 112.,  66.,  28.,  10.,   3.,   0.],\n",
              "        [  4.,  24.,  61., 135., 108.,  70.,  28.,  10.,   1.,   1.],\n",
              "        [  0.,  15.,  88., 125., 112.,  62.,  25.,   8.,   4.,   3.],\n",
              "        [  0.,  29., 137.,  12., 129.,  77.,  39.,  14.,   4.,   1.],\n",
              "        [  2.,  23.,  76., 119., 105.,  74.,  30.,   9.,   4.,   0.],\n",
              "        [  5.,  24.,  73., 103., 132.,  64.,  27.,  11.,   3.,   0.]]),\n",
              " array([-0.13776723, -0.1041117 , -0.07045618, -0.03680066, -0.00314514,\n",
              "         0.03051038,  0.0641659 ,  0.09782143,  0.13147695,  0.16513247,\n",
              "         0.19878799]),\n",
              " <a list of 10 BarContainer objects>)"
            ]
          },
          "metadata": {},
          "execution_count": 17
        },
        {
          "output_type": "display_data",
          "data": {
            "text/plain": [
              "<Figure size 640x480 with 1 Axes>"
            ],
            "image/png": "[encoded data removed]"
          },
          "metadata": {}
        }
      ]
    },
    {
      "cell_type": "code",
      "source": [
        "model = LinearRegression()\n",
        "model.fit(after_x,y)\n",
        "predict = model.predict(after_x)\n",
        "plt.scatter(after_x[:100, 0], y[:100], label='Actual Data')\n",
        "plt.scatter(after_x[:100, 0], predict[:100], label='Predicted Data', color='red')\n",
        "plt.legend()\n",
        "plt.show()"
      ],
      "metadata": {
        "colab": {
          "base_uri": "https://localhost:8080/",
          "height": 430
        },
        "id": "YAuCaUQTOks0",
        "outputId": "3ead4441-98a2-42bd-cad1-64a8020a2e5b"
      },
      "execution_count": 20,
      "outputs": [
        {
          "output_type": "display_data",
          "data": {
            "text/plain": [
              "<Figure size 640x480 with 1 Axes>"
            ],
            "image/png": "[encoded data removed]"
          },
          "metadata": {}
        }
      ]
    },
    {
      "cell_type": "markdown",
      "source": [
        "# cross- validation\n"
      ],
      "metadata": {
        "id": "1RzLaae2M9a2"
      }
    },
    {
      "cell_type": "markdown",
      "source": [
        "using k-fold for the following pipe-line:\n",
        "  \n",
        "  1) standirization\n",
        "  \n",
        "  2) PCA\n",
        "  \n",
        "  3) creating a SVM model"
      ],
      "metadata": {
        "id": "fYhr6pKlNWwA"
      }
    },
    {
      "cell_type": "code",
      "source": [
        "from sklearn.model_selection import train_test_split, cross_val_score\n",
        "from sklearn.preprocessing import StandardScaler\n",
        "from sklearn.decomposition import PCA\n",
        "from sklearn import svm\n",
        "from sklearn.pipeline import make_pipeline\n",
        "\n",
        "X_train, X_test, Y_train, Y_test = train_test_split(X, y, test_size=0.3, random_state=0)\n",
        "\n",
        "pl = make_pipeline(StandardScaler(), PCA(), svm.SVR(kernel = 'linear'))\n",
        "\n",
        "scores = cross_val_score(estimator = pl, X = X_train, y = Y_train, cv=10)"
      ],
      "metadata": {
        "id": "-pUj_Us4NAKT"
      },
      "execution_count": 8,
      "outputs": []
    },
    {
      "cell_type": "code",
      "source": [
        "scores"
      ],
      "metadata": {
        "colab": {
          "base_uri": "https://localhost:8080/"
        },
        "id": "Jtyu0TrwPepW",
        "outputId": "740baf88-e7d3-4793-a549-fbcf23f4f1a8"
      },
      "execution_count": 9,
      "outputs": [
        {
          "output_type": "execute_result",
          "data": {
            "text/plain": [
              "array([0.39957026, 0.55546267, 0.46427908, 0.39563581, 0.64358652,\n",
              "       0.45044958, 0.47035526, 0.68587068, 0.44356893, 0.61563138])"
            ]
          },
          "metadata": {},
          "execution_count": 9
        }
      ]
    },
    {
      "cell_type": "code",
      "source": [],
      "metadata": {
        "id": "6lorxFOqQprJ"
      },
      "execution_count": null,
      "outputs": []
    }
  ]
}